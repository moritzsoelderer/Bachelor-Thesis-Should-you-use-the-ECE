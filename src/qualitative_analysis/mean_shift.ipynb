{
 "cells": [
  {
   "cell_type": "code",
   "outputs": [],
   "source": [
    "%load_ext autoreload\n",
    "%autoreload 2\n",
    "\n",
    "import random\n",
    "import numpy as np\n",
    "from scipy import stats\n",
    "from src.qualitative_analysis import util"
   ],
   "metadata": {
    "collapsed": false
   },
   "id": "885b9b9f847c4cd4",
   "execution_count": null
  },
  {
   "cell_type": "code",
   "execution_count": null,
   "id": "initial_id",
   "metadata": {
    "collapsed": true
   },
   "outputs": [],
   "source": [
    "def calculate_probabilities(X, step):\n",
    "    scaling_constant = np.sqrt(2 * np.pi)  # inverse of max. value of gaussian with variance=1\n",
    "    prob_dist = stats.norm(loc=step, scale=1)\n",
    "    pdf_values = prob_dist.pdf(X) * scaling_constant\n",
    "    prob = np.column_stack((1 - pdf_values, pdf_values))\n",
    "    return prob"
   ]
  },
  {
   "cell_type": "code",
   "outputs": [],
   "source": [
    "# configurable variables\n",
    "mean = 0\n",
    "mean_deviations = np.arange(-3, 4, 1)\n",
    "p_true_dist = stats.norm(loc=mean, scale=1)\n",
    "X = p_true_dist.rvs(size=40000)"
   ],
   "metadata": {
    "collapsed": false
   },
   "id": "cdf1240e66539eb0",
   "execution_count": null
  },
  {
   "cell_type": "code",
   "outputs": [],
   "source": [
    "p_true = calculate_probabilities(X, mean)\n",
    "y_true = np.array(list(map(lambda x: 1 if random.random() < x[1] else 0, p_true)))"
   ],
   "metadata": {
    "collapsed": false
   },
   "id": "e33308b939f86051",
   "execution_count": null
  },
  {
   "cell_type": "code",
   "outputs": [],
   "source": [
    "util.plot_p_pred_dists(\n",
    "    np.arange(mean - 4, mean + 4, 2),\n",
    "    X,\n",
    "    calculate_probabilities,\n",
    "    \"mean\")"
   ],
   "metadata": {
    "collapsed": false
   },
   "id": "453b63c407d488b0",
   "execution_count": null
  },
  {
   "cell_type": "code",
   "outputs": [],
   "source": [
    "util.plot_p_true_reliability_diagrams(\n",
    "    np.arange(mean - 4, mean + 4, 1),\n",
    "    X, p_true, y_true,\n",
    "    calculate_probabilities,\n",
    "    \"Mean\"\n",
    ")"
   ],
   "metadata": {
    "collapsed": false
   },
   "id": "86f08357894c287e",
   "execution_count": null
  },
  {
   "cell_type": "code",
   "outputs": [],
   "source": [
    "true_ece_vals, ece_vals, balance_score_vals, fce_vals, tce_vals, ksce_vals, ace_vals = (\n",
    "    util.calculate_metrics(\n",
    "        mean + mean_deviations,\n",
    "        p_true, y_true, X, \n",
    "        calculate_probabilities,\n",
    "        log=\"Mean Deviation\"\n",
    "    )\n",
    ")"
   ],
   "metadata": {
    "collapsed": false
   },
   "id": "24a8b1287a850fca",
   "execution_count": null
  },
  {
   "cell_type": "code",
   "outputs": [],
   "source": [
    "util.plot_metrics(\n",
    "    mean, mean_deviations,\n",
    "    p_true, y_true,\n",
    "    true_ece_vals, ece_vals, balance_score_vals, fce_vals, tce_vals, ksce_vals, ace_vals,\n",
    "    \"Metric Behaviour on Mean Deviation\",\n",
    "    \"Mean\"\n",
    ")"
   ],
   "metadata": {
    "collapsed": false
   },
   "id": "d46e05f42f285cba",
   "execution_count": null
  }
 ],
 "metadata": {
  "kernelspec": {
   "display_name": "Python 3",
   "language": "python",
   "name": "python3"
  },
  "language_info": {
   "codemirror_mode": {
    "name": "ipython",
    "version": 2
   },
   "file_extension": ".py",
   "mimetype": "text/x-python",
   "name": "python",
   "nbconvert_exporter": "python",
   "pygments_lexer": "ipython2",
   "version": "2.7.6"
  }
 },
 "nbformat": 4,
 "nbformat_minor": 5
}
