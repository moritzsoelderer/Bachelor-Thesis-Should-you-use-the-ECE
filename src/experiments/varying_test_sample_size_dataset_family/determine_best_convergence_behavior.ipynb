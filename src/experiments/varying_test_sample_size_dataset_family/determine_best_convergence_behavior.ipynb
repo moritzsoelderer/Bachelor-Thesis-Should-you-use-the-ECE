{
 "cells": [
  {
   "cell_type": "code",
   "outputs": [],
   "source": [
    "import numpy as np\n",
    "import pickle"
   ],
   "metadata": {
    "collapsed": false,
    "ExecuteTime": {
     "end_time": "2025-06-04T15:46:05.570233200Z",
     "start_time": "2025-06-04T15:46:05.556717800Z"
    }
   },
   "id": "5c67c09f39f8ba73",
   "execution_count": 28
  },
  {
   "cell_type": "code",
   "outputs": [],
   "source": [
    "filenames = [\n",
    "    'Exclamation Mark Dataset__Logistic Regression__Exclamation Mark Dataset Family__AbsoluteValues__20250408_234908.pkl',\n",
    "    'Exclamation Mark Dataset__Neural Network__Exclamation Mark Dataset Family__AbsoluteValues__20250408_234908.pkl',\n",
    "    'Exclamation Mark Dataset__Random Forest__Exclamation Mark Dataset Family__AbsoluteValues__20250408_234908.pkl',\n",
    "    'Exclamation Mark Dataset__SVM__Exclamation Mark Dataset Family__AbsoluteValues__20250408_001836.pkl',\n",
    "    'Gummy Worm Dataset__Logistic Regression__Gummy Worm Dataset Family__AbsoluteValues__20250311_015848.pkl',\n",
    "    'Gummy Worm Dataset__Neural Network__Gummy Worm Dataset Family__AbsoluteValues__20250311_015848.pkl',\n",
    "    'Gummy Worm Dataset__Random Forest__Gummy Worm Dataset Family__AbsoluteValues__20250311_015848.pkl',\n",
    "    'Gummy Worm Dataset__SVM__Gummy Worm Dataset Family__AbsoluteValues__20250405_032919.pkl',\n",
    "]"
   ],
   "metadata": {
    "collapsed": false,
    "ExecuteTime": {
     "end_time": "2025-06-04T15:46:05.602239700Z",
     "start_time": "2025-06-04T15:46:05.576201200Z"
    }
   },
   "id": "4967a592859dced6",
   "execution_count": 29
  },
  {
   "cell_type": "code",
   "execution_count": 30,
   "id": "initial_id",
   "metadata": {
    "collapsed": true,
    "ExecuteTime": {
     "end_time": "2025-06-04T15:46:05.603243600Z",
     "start_time": "2025-06-04T15:46:05.583717800Z"
    }
   },
   "outputs": [
    {
     "name": "stdout",
     "output_type": "stream",
     "text": [
      "Exclamation Mark Dataset__Logistic Regression__Exclamation Mark Dataset Family__AbsoluteValues__20250408_234908.pkl\n",
      "Exclamation Mark Dataset__Neural Network__Exclamation Mark Dataset Family__AbsoluteValues__20250408_234908.pkl\n",
      "Exclamation Mark Dataset__Random Forest__Exclamation Mark Dataset Family__AbsoluteValues__20250408_234908.pkl\n",
      "Exclamation Mark Dataset__SVM__Exclamation Mark Dataset Family__AbsoluteValues__20250408_001836.pkl\n",
      "Gummy Worm Dataset__Logistic Regression__Gummy Worm Dataset Family__AbsoluteValues__20250311_015848.pkl\n",
      "Gummy Worm Dataset__Neural Network__Gummy Worm Dataset Family__AbsoluteValues__20250311_015848.pkl\n",
      "Gummy Worm Dataset__Random Forest__Gummy Worm Dataset Family__AbsoluteValues__20250311_015848.pkl\n",
      "Gummy Worm Dataset__SVM__Gummy Worm Dataset Family__AbsoluteValues__20250405_032919.pkl\n"
     ]
    }
   ],
   "source": [
    "eces = []\n",
    "aces = []\n",
    "fces = []\n",
    "ksces = []\n",
    "tces = []\n",
    "balance_scores = []\n",
    "true_eces_15 = []\n",
    "true_eces_100 = []\n",
    "for filename in filenames:\n",
    "    with (open('./data/' + filename, 'rb') as file):\n",
    "        print(filename)\n",
    "        results = pickle.load(file)\n",
    "\n",
    "        means = results[\"Means\"]\n",
    "        eces.append(means[\"ECE\"])\n",
    "        aces.append(means[\"ACE\"])\n",
    "        fces.append(means[\"FCE\"])\n",
    "        ksces.append(means[\"KSCE\"])\n",
    "        tces.append(means[\"TCE\"])\n",
    "        balance_scores.append(means[\"Balance Score\"])\n",
    "        true_eces_15.append(means[\"True ECE Dists (Binned - 15 Bins)\"])\n",
    "        true_eces_100.append(means[\"True ECE Dists (Binned - 100 Bins)\"])\n",
    "        \n",
    "eces = np.array(eces)\n",
    "aces = np.array(aces)\n",
    "fces = np.array(fces)\n",
    "ksces = np.array(ksces)\n",
    "tces = np.array(tces)\n",
    "balance_scores = np.array(balance_scores)\n",
    "true_eces_15 = np.array(true_eces_15)\n",
    "true_eces_100 = np.array(true_eces_100)"
   ]
  },
  {
   "cell_type": "code",
   "outputs": [],
   "source": [
    "from sklearn.metrics import mean_absolute_error\n",
    "\n",
    "eces_mae_15 = np.array([mean_absolute_error(ece, true_eces_15[i]) for i, ece in enumerate(eces)])\n",
    "aces_mae_15 = np.array([mean_absolute_error(ace, true_eces_15[i]) for i, ace in enumerate(aces)])\n",
    "fces_mae_15 = np.array([mean_absolute_error(fce, true_eces_15[i]) for i, fce in enumerate(fces)])\n",
    "tces_mae_15 = np.array([mean_absolute_error(tce, true_eces_15[i]) for i, tce in enumerate(tces)])\n",
    "ksces_mae_15 = np.array([mean_absolute_error(ksce, true_eces_15[i]) for i, ksce in enumerate(ksces)])\n",
    "balance_scores_mae_15 = np.array([mean_absolute_error(balance_score, true_eces_15[i]) for i, balance_score in enumerate(balance_scores)])"
   ],
   "metadata": {
    "collapsed": false,
    "ExecuteTime": {
     "end_time": "2025-06-04T15:46:05.653840400Z",
     "start_time": "2025-06-04T15:46:05.609244600Z"
    }
   },
   "id": "312afdc19f5b0d9e",
   "execution_count": 31
  },
  {
   "cell_type": "code",
   "outputs": [],
   "source": [
    "experiments = [\"SVM - GWF\", \"NN - GWF\", \"LR - GWF\", \"RF - GWF\", \"SVM - EXF\", \"NN - EXF\", \"LR - EXF\", \"RF - EXF\"]\n",
    "\n",
    "df_list = []"
   ],
   "metadata": {
    "collapsed": false,
    "ExecuteTime": {
     "end_time": "2025-06-04T15:46:05.670370400Z",
     "start_time": "2025-06-04T15:46:05.630759600Z"
    }
   },
   "id": "ba9661524e1d28b0",
   "execution_count": 32
  },
  {
   "cell_type": "code",
   "outputs": [],
   "source": [
    "for i, name in enumerate(experiments):\n",
    "    df_list.append({\n",
    "        \"experiment\": name,\n",
    "        \"ECE\": eces_mae_15[i],\n",
    "        \"FCE\": fces_mae_15[i],\n",
    "        \"ACE\": aces_mae_15[i],\n",
    "        \"TCE\": tces_mae_15[i],\n",
    "        \"KSCE\": ksces_mae_15[i],\n",
    "        \"Balance Score\": balance_scores_mae_15[i]\n",
    "    })"
   ],
   "metadata": {
    "collapsed": false,
    "ExecuteTime": {
     "end_time": "2025-06-04T15:46:05.672372200Z",
     "start_time": "2025-06-04T15:46:05.656842900Z"
    }
   },
   "id": "746a95d0086b1560",
   "execution_count": 33
  },
  {
   "cell_type": "code",
   "outputs": [],
   "source": [
    "eces_mae_100 = np.array([mean_absolute_error(ece, true_eces_100[i]) for i, ece in enumerate(eces)])\n",
    "aces_mae_100 = np.array([mean_absolute_error(ace, true_eces_100[i]) for i, ace in enumerate(aces)])\n",
    "fces_mae_100 = np.array([mean_absolute_error(fce, true_eces_100[i]) for i, fce in enumerate(fces)])\n",
    "tces_mae_100 = np.array([mean_absolute_error(tce, true_eces_100[i]) for i, tce in enumerate(tces)])\n",
    "ksces_mae_100 = np.array([mean_absolute_error(ksce, true_eces_100[i]) for i, ksce in enumerate(ksces)])\n",
    "balance_scores_mae_100 = np.array([mean_absolute_error(balance_score, true_eces_100[i]) for i, balance_score in enumerate(balance_scores)])"
   ],
   "metadata": {
    "collapsed": false,
    "ExecuteTime": {
     "end_time": "2025-06-04T15:46:05.718212200Z",
     "start_time": "2025-06-04T15:46:05.690374Z"
    }
   },
   "id": "e70c00e3b822057",
   "execution_count": 34
  },
  {
   "cell_type": "code",
   "outputs": [],
   "source": [
    "for i, name in enumerate(experiments):\n",
    "    df_list.append({\n",
    "        \"experiment\": name,\n",
    "        \"ECE\": eces_mae_100[i],\n",
    "        \"FCE\": fces_mae_100[i],\n",
    "        \"ACE\": aces_mae_100[i],\n",
    "        \"TCE\": tces_mae_100[i],\n",
    "        \"KSCE\": ksces_mae_100[i],\n",
    "        \"Balance Score\": balance_scores_mae_100[i]\n",
    "    })"
   ],
   "metadata": {
    "collapsed": false,
    "ExecuteTime": {
     "end_time": "2025-06-04T15:46:05.719217900Z",
     "start_time": "2025-06-04T15:46:05.699424100Z"
    }
   },
   "id": "f6fe8a270cb8fd49",
   "execution_count": 35
  },
  {
   "cell_type": "code",
   "outputs": [
    {
     "name": "stdout",
     "output_type": "stream",
     "text": [
      "   experiment       ECE       FCE       ACE       TCE      KSCE  Balance Score\n",
      "0   SVM - GWF  0.003942  0.003860  0.008301  0.147993  0.010340       0.010306\n",
      "1    NN - GWF  0.004899  0.004876  0.006621  0.170900  0.007916       0.011424\n",
      "2    LR - GWF  0.002427  0.002509  0.002574  0.682143  0.050009       0.002495\n",
      "3    RF - GWF  0.003358  0.003301  0.006489  0.408996  0.029441       0.025239\n",
      "4   SVM - EXF  0.034978  0.036001  0.026964  0.419334  0.076675       0.084376\n",
      "5    NN - EXF  0.004736  0.003086  0.005065  0.642898  0.030094       0.006067\n",
      "6    LR - EXF  0.003060  0.005969  0.001918  0.647863  0.002577       0.000493\n",
      "7    RF - EXF  0.001164  0.002406  0.001594  0.125011  0.002265       0.002743\n",
      "8   SVM - GWF  0.004220  0.004198  0.007112  0.146770  0.011479       0.011507\n",
      "9    NN - GWF  0.005129  0.005115  0.006626  0.170391  0.008405       0.011923\n",
      "10   LR - GWF  0.002905  0.002090  0.002986  0.681453  0.050691       0.003066\n",
      "11   RF - GWF  0.003921  0.004230  0.005107  0.406415  0.031970       0.027819\n",
      "12  SVM - EXF  0.044929  0.045985  0.036740  0.409346  0.086662       0.094364\n",
      "13   NN - EXF  0.005462  0.003742  0.005798  0.642105  0.030887       0.006850\n",
      "14   LR - EXF  0.002915  0.005823  0.001773  0.647718  0.002715       0.000513\n",
      "15   RF - EXF  0.001520  0.001596  0.001135  0.124201  0.002964       0.003508\n"
     ]
    }
   ],
   "source": [
    "import pandas as pd\n",
    "\n",
    "pd.set_option('display.max_columns', None)\n",
    "df = pd.DataFrame(df_list)\n",
    "print(df)"
   ],
   "metadata": {
    "collapsed": false,
    "ExecuteTime": {
     "end_time": "2025-06-04T15:46:05.720218Z",
     "start_time": "2025-06-04T15:46:05.703685100Z"
    }
   },
   "id": "fe405217d157d495",
   "execution_count": 36
  },
  {
   "cell_type": "code",
   "outputs": [
    {
     "name": "stdout",
     "output_type": "stream",
     "text": [
      "\\begin{table}\n",
      "\\caption{Mean absolute error between True ECE$_{dists}^{15}$ (top section) and True ECE$_{dists}^{15}$ (bottom section) and various metrics across 100 to 20000 samples. Bold and underlined values indicate top-1 and top-2 values (minimal values), respectively. GWF, EXF, NN, LR, RF are abbreviations for Gummy Worm Family, Exclamation Mark Family, Neural Network, Logistic Regression and Random Forest, respectively.}\n",
      "\\begin{tabular}{lllllll}\n",
      "\\toprule\n",
      "experiment & ECE & FCE & ACE & TCE & KSCE & Balance Score \\\\\n",
      "\\midrule\n",
      "SVM - GWF & \\underline{0.00394} & \\textbf{0.00386} & 0.00830 & 0.14799 & 0.01034 & 0.01031 \\\\\n",
      "NN - GWF & \\underline{0.00490} & \\textbf{0.00488} & 0.00662 & 0.17090 & 0.00792 & 0.01142 \\\\\n",
      "LR - GWF & \\textbf{0.00243} & 0.00251 & 0.00257 & 0.68214 & 0.05001 & \\underline{0.00249} \\\\\n",
      "RF - GWF & \\underline{0.00336} & \\textbf{0.00330} & 0.00649 & 0.40900 & 0.02944 & 0.02524 \\\\\n",
      "SVM - EXF & \\underline{0.03498} & 0.03600 & \\textbf{0.02696} & 0.41933 & 0.07667 & 0.08438 \\\\\n",
      "NN - EXF & \\underline{0.00474} & \\textbf{0.00309} & 0.00507 & 0.64290 & 0.03009 & 0.00607 \\\\\n",
      "LR - EXF & 0.00306 & 0.00597 & \\underline{0.00192} & 0.64786 & 0.00258 & \\textbf{0.00049} \\\\\n",
      "RF - EXF & \\textbf{0.00116} & 0.00241 & \\underline{0.00159} & 0.12501 & 0.00227 & 0.00274 \\\\\n",
      "SVM - GWF & \\underline{0.00422} & \\textbf{0.00420} & 0.00711 & 0.14677 & 0.01148 & 0.01151 \\\\\n",
      "NN - GWF & \\underline{0.00513} & \\textbf{0.00511} & 0.00663 & 0.17039 & 0.00840 & 0.01192 \\\\\n",
      "LR - GWF & \\underline{0.00290} & \\textbf{0.00209} & 0.00299 & 0.68145 & 0.05069 & 0.00307 \\\\\n",
      "RF - GWF & \\textbf{0.00392} & \\underline{0.00423} & 0.00511 & 0.40642 & 0.03197 & 0.02782 \\\\\n",
      "SVM - EXF & \\underline{0.04493} & 0.04599 & \\textbf{0.03674} & 0.40935 & 0.08666 & 0.09436 \\\\\n",
      "NN - EXF & \\underline{0.00546} & \\textbf{0.00374} & 0.00580 & 0.64210 & 0.03089 & 0.00685 \\\\\n",
      "LR - EXF & 0.00291 & 0.00582 & \\underline{0.00177} & 0.64772 & 0.00271 & \\textbf{0.00051} \\\\\n",
      "RF - EXF & \\underline{0.00152} & 0.00160 & \\textbf{0.00113} & 0.12420 & 0.00296 & 0.00351 \\\\\n",
      "\\bottomrule\n",
      "\\end{tabular}\n",
      "\\end{table}\n"
     ]
    }
   ],
   "source": [
    "### Print Latex code for table\n",
    "\n",
    "model_names = df[\"experiment\"]\n",
    "data_only = df.drop(columns=[\"experiment\"])\n",
    "\n",
    "def highlight_row(row):\n",
    "    ranks = row.rank(method=\"min\", ascending=True)\n",
    "    formatted = row.astype(str)\n",
    "\n",
    "    for col in row.index:\n",
    "        val = row[col]\n",
    "        if ranks[col] == 1:\n",
    "            formatted[col] = f\"\\\\textbf{{{val:.5f}}}\"\n",
    "        elif ranks[col] == 2:\n",
    "            formatted[col] = f\"\\\\underline{{{val:.5f}}}\"\n",
    "        else:\n",
    "            formatted[col] = f\"{val:.5f}\"\n",
    "    return formatted\n",
    "\n",
    "# Apply formatting row-wise\n",
    "styled_data = data_only.apply(highlight_row, axis=1)\n",
    "\n",
    "# Add back the model column\n",
    "styled_df = pd.concat([model_names, styled_data], axis=1)\n",
    "\n",
    "latex_code = styled_df.to_latex(index=False, caption=\"Mean absolute error between True ECE$_{dists}^{15}$ (top section) and True ECE$_{dists}^{15}$ (bottom section) and various metrics across 100 to 20000 samples. Bold and underlined values indicate top-1 and top-2 values (minimal values), respectively. GWF, EXF, NN, LR, RF are abbreviations for Gummy Worm Family, Exclamation Mark Family, Neural Network, Logistic Regression and Random Forest, respectively.\")\n",
    "print(latex_code)"
   ],
   "metadata": {
    "collapsed": false,
    "ExecuteTime": {
     "end_time": "2025-06-04T15:46:05.751326900Z",
     "start_time": "2025-06-04T15:46:05.718212200Z"
    }
   },
   "id": "4d4e4db844a41e7f",
   "execution_count": 37
  },
  {
   "cell_type": "code",
   "outputs": [],
   "source": [],
   "metadata": {
    "collapsed": false,
    "ExecuteTime": {
     "end_time": "2025-06-04T15:46:05.751326900Z",
     "start_time": "2025-06-04T15:46:05.738318400Z"
    }
   },
   "id": "821c9ffbab7b5151",
   "execution_count": 37
  }
 ],
 "metadata": {
  "kernelspec": {
   "display_name": "Python 3",
   "language": "python",
   "name": "python3"
  },
  "language_info": {
   "codemirror_mode": {
    "name": "ipython",
    "version": 2
   },
   "file_extension": ".py",
   "mimetype": "text/x-python",
   "name": "python",
   "nbconvert_exporter": "python",
   "pygments_lexer": "ipython2",
   "version": "2.7.6"
  }
 },
 "nbformat": 4,
 "nbformat_minor": 5
}
