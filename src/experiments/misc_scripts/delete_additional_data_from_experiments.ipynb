{
 "cells": [
  {
   "cell_type": "code",
   "execution_count": 5,
   "id": "initial_id",
   "metadata": {
    "collapsed": true,
    "ExecuteTime": {
     "end_time": "2025-06-03T14:04:28.985479400Z",
     "start_time": "2025-06-03T14:04:28.971593200Z"
    }
   },
   "outputs": [
    {
     "data": {
      "text/plain": "\"\\nVarying bins and Varying sample size experiments store estimators, grid samples, dists samples and grid probabilities per default. This script removes them to reduce storage consumption. As all experiments use seeds, as well as the utils.sample_uniformly_within_bounds methods, this data is recoverable by recomputing.\\n\\nCAUTION: It is best to create a backup of all files in 'filenames' before running this script. Failures during script execution might cause file corruption\\n\""
     },
     "execution_count": 5,
     "metadata": {},
     "output_type": "execute_result"
    }
   ],
   "source": [
    "import pickle\n",
    "\n",
    "\"\"\"\n",
    "Varying bins and Varying sample size experiments store estimators, grid samples, dists samples and grid probabilities per default. This script removes them to reduce storage consumption. As all experiments use seeds, as well as the utils.sample_uniformly_within_bounds methods, this data is recoverable by recomputing.\n",
    "\n",
    "CAUTION: It is best to create a backup of all files in 'filenames' before running this script. Failures during script execution might cause file corruption\n",
    "\"\"\" "
   ]
  },
  {
   "cell_type": "code",
   "outputs": [],
   "source": [
    "filenames = [\n",
    "    'varying_test_sample_size_dataset_family/data/Exclamation Mark Dataset__Logistic Regression__Exclamation Mark Dataset Family__AbsoluteValues__20250408_234908.pkl',\n",
    "    'varying_test_sample_size_dataset_family/data/Exclamation Mark Dataset__Neural Network__Exclamation Mark Dataset Family__AbsoluteValues__20250408_234908.pkl',\n",
    "    'varying_test_sample_size_dataset_family/data/Exclamation Mark Dataset__Random Forest__Exclamation Mark Dataset Family__AbsoluteValues__20250408_234908.pkl',\n",
    "    'varying_test_sample_size_dataset_family/data/Exclamation Mark Dataset__SVM__Exclamation Mark Dataset Family__AbsoluteValues__20250408_001836.pkl',\n",
    "    'varying_test_sample_size_dataset_family/data/Gummy Worm Dataset__Logistic Regression__Gummy Worm Dataset Family__AbsoluteValues__20250311_015848.pkl',\n",
    "    'varying_test_sample_size_dataset_family/data/Gummy Worm Dataset__Neural Network__Gummy Worm Dataset Family__AbsoluteValues__20250311_015848.pkl',\n",
    "    'varying_test_sample_size_dataset_family/data/Gummy Worm Dataset__Random Forest__Gummy Worm Dataset Family__AbsoluteValues__20250311_015848.pkl',\n",
    "    'varying_test_sample_size_dataset_family/data/Gummy Worm Dataset__SVM__Gummy Worm Dataset Family__AbsoluteValues__20250405_032919.pkl',\n",
    "    'varying_bins_dataset_family/data/Exclamation Mark Dataset__Random Forest__Exclamation Mark Dataset Family__AbsoluteValues__20250529_134349.pkl',\n",
    "    'varying_bins_dataset_family/data/Exclamation Mark Dataset__Logistic Regression__Exclamation Mark Dataset Family__AbsoluteValues__20250529_134349.pkl',\n",
    "    'varying_bins_dataset_family/data/Exclamation Mark Dataset__Neural Network__Exclamation Mark Dataset Family__AbsoluteValues__20250529_134349.pkl',\n",
    "    'varying_bins_dataset_family/data/Exclamation Mark Dataset__SVM__Exclamation Mark Dataset Family__AbsoluteValues__20250529_134349.pkl',\n",
    "    'varying_bins_dataset_family/data/Gummy Worm Dataset__Logistic Regression__Gummy Worm Dataset Family__AbsoluteValues__20250524_140318.pkl',\n",
    "    'varying_bins_dataset_family/data/Gummy Worm Dataset__Neural Network__Gummy Worm Dataset Family__AbsoluteValues__20250524_140318.pkl',\n",
    "    'varying_bins_dataset_family/data/Gummy Worm Dataset__Random Forest__Gummy Worm Dataset Family__AbsoluteValues__20250524_140318.pkl',\n",
    "    'varying_bins_dataset_family/data/Gummy Worm Dataset__SVM__Gummy Worm Dataset Family__AbsoluteValues__20250524_140318.pkl'\n",
    "]"
   ],
   "metadata": {
    "collapsed": false,
    "ExecuteTime": {
     "end_time": "2025-06-03T14:04:28.997546200Z",
     "start_time": "2025-06-03T14:04:28.989480Z"
    }
   },
   "id": "d3e881d74f9e4095",
   "execution_count": 6
  },
  {
   "cell_type": "code",
   "outputs": [
    {
     "name": "stdout",
     "output_type": "stream",
     "text": [
      "Processing varying_bins_dataset_family/data/Gummy Worm Dataset__Logistic Regression__Gummy Worm Dataset Family__AbsoluteValues__20250524_140318.pkl\n",
      "dict_keys(['True ECE Samples Dists', 'True ECE Samples Grid', 'True Probabilities Grid', 'Means', 'Std Devs', 'Binss'])\n",
      "True ECE Samples Dists found - Removing dict key\n",
      "True ECE Samples Grid - Removing dict key\n",
      "True Probabilities Grid - Removing dict key\n",
      "Dumping varying_bins_dataset_family/data/Gummy Worm Dataset__Logistic Regression__Gummy Worm Dataset Family__AbsoluteValues__20250524_140318.pkl\n",
      "Processing varying_bins_dataset_family/data/Gummy Worm Dataset__Neural Network__Gummy Worm Dataset Family__AbsoluteValues__20250524_140318.pkl\n",
      "dict_keys(['True ECE Samples Dists', 'True ECE Samples Grid', 'True Probabilities Grid', 'Means', 'Std Devs', 'Binss'])\n",
      "True ECE Samples Dists found - Removing dict key\n",
      "True ECE Samples Grid - Removing dict key\n",
      "True Probabilities Grid - Removing dict key\n",
      "Dumping varying_bins_dataset_family/data/Gummy Worm Dataset__Neural Network__Gummy Worm Dataset Family__AbsoluteValues__20250524_140318.pkl\n",
      "Processing varying_bins_dataset_family/data/Gummy Worm Dataset__Random Forest__Gummy Worm Dataset Family__AbsoluteValues__20250524_140318.pkl\n",
      "dict_keys(['True ECE Samples Dists', 'True ECE Samples Grid', 'True Probabilities Grid', 'Means', 'Std Devs', 'Binss'])\n",
      "True ECE Samples Dists found - Removing dict key\n",
      "True ECE Samples Grid - Removing dict key\n",
      "True Probabilities Grid - Removing dict key\n",
      "Dumping varying_bins_dataset_family/data/Gummy Worm Dataset__Random Forest__Gummy Worm Dataset Family__AbsoluteValues__20250524_140318.pkl\n",
      "Processing varying_bins_dataset_family/data/Gummy Worm Dataset__SVM__Gummy Worm Dataset Family__AbsoluteValues__20250524_140318.pkl\n",
      "dict_keys(['True ECE Samples Dists', 'True ECE Samples Grid', 'True Probabilities Grid', 'Means', 'Std Devs', 'Binss'])\n",
      "True ECE Samples Dists found - Removing dict key\n",
      "True ECE Samples Grid - Removing dict key\n",
      "True Probabilities Grid - Removing dict key\n",
      "Dumping varying_bins_dataset_family/data/Gummy Worm Dataset__SVM__Gummy Worm Dataset Family__AbsoluteValues__20250524_140318.pkl\n"
     ]
    }
   ],
   "source": [
    "for filename in filenames:\n",
    "    with (open(f'../{filename}', 'rb') as file):\n",
    "        print(\"Processing\", filename)\n",
    "        results = pickle.load(file)\n",
    "        \n",
    "        print(results.keys())\n",
    "        \n",
    "        if \"Estimators\" in results.keys():\n",
    "            print(\"Estimators found - Removing dict key\")\n",
    "            results.pop(\"Estimators\")\n",
    "        if \"True ECE Samples Dists\" in results.keys():\n",
    "            print(\"True ECE Samples Dists found - Removing dict key\")\n",
    "            results.pop(\"True ECE Samples Dists\")\n",
    "        if \"True ECE Samples Grid\" in results.keys():\n",
    "            print(\"True ECE Samples Grid - Removing dict key\")\n",
    "            results.pop(\"True ECE Samples Grid\")\n",
    "        if \"True Probabilities Grid\" in results.keys():\n",
    "            print(\"True Probabilities Grid - Removing dict key\")\n",
    "            results.pop(\"True Probabilities Grid\")\n",
    "        \n",
    "    with(open(f'../{filename}', 'wb') as file):\n",
    "        print(\"Dumping\", filename)\n",
    "        pickle.dump(results, file)"
   ],
   "metadata": {
    "collapsed": false,
    "ExecuteTime": {
     "end_time": "2025-06-03T14:06:21.539507200Z",
     "start_time": "2025-06-03T14:04:29.003547400Z"
    }
   },
   "id": "e079ebb8f18813e0",
   "execution_count": 7
  },
  {
   "cell_type": "code",
   "outputs": [],
   "source": [],
   "metadata": {
    "collapsed": false,
    "ExecuteTime": {
     "end_time": "2025-06-03T14:06:21.540507600Z",
     "start_time": "2025-06-03T14:06:21.532994300Z"
    }
   },
   "id": "21e383c45727456e",
   "execution_count": 7
  }
 ],
 "metadata": {
  "kernelspec": {
   "display_name": "Python 3",
   "language": "python",
   "name": "python3"
  },
  "language_info": {
   "codemirror_mode": {
    "name": "ipython",
    "version": 2
   },
   "file_extension": ".py",
   "mimetype": "text/x-python",
   "name": "python",
   "nbconvert_exporter": "python",
   "pygments_lexer": "ipython2",
   "version": "2.7.6"
  }
 },
 "nbformat": 4,
 "nbformat_minor": 5
}
