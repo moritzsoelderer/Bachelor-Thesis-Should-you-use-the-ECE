{
 "cells": [
  {
   "cell_type": "code",
   "outputs": [],
   "source": [
    "from src.data_generation.datasets import gummy_worm_dataset_family\n",
    "import numpy as np\n",
    "from sklearn.model_selection import train_test_split\n",
    "from matplotlib import pyplot as plt\n",
    "import pickle\n",
    "from joblib import Parallel, delayed\n"
   ],
   "metadata": {
    "collapsed": false,
    "ExecuteTime": {
     "end_time": "2025-05-23T17:14:32.761006600Z",
     "start_time": "2025-05-23T17:14:30.838646Z"
    }
   },
   "id": "1cb7a8092faf38eb",
   "execution_count": 3
  },
  {
   "cell_type": "code",
   "outputs": [],
   "source": [
    "\n",
    "datasets = gummy_worm_dataset_family()\n",
    "\n",
    "X_trains = []\n",
    "y_trains = []\n",
    "X_tests = []\n",
    "y_tests = []\n",
    "\n",
    "for dataset in datasets:\n",
    "    samples, labels = dataset.generate_data(10000)    \n",
    "    X_train, X_test, y_train, y_test = train_test_split(samples, labels, test_size=0.5, random_state=42)\n",
    "    \n",
    "    X_trains.append(X_train)\n",
    "    y_trains.append(y_train)\n",
    "    X_tests.append(X_test)\n",
    "    y_tests.append(y_test)\n",
    "\n",
    "# ensure numpy\n",
    "X_trains = np.array(X_trains)\n",
    "y_trains = np.array(y_trains)\n",
    "X_tests = np.array(X_tests)\n",
    "y_tests = np.array(y_tests)\n",
    "\n",
    "print(X_trains.shape)\n",
    "print(y_trains.shape)\n",
    "print(X_tests.shape)\n",
    "print(y_tests.shape)\n"
   ],
   "metadata": {
    "collapsed": false
   },
   "id": "17610e7b4f1b7174",
   "execution_count": null
  },
  {
   "cell_type": "code",
   "outputs": [],
   "source": [
    "print(X_trains[1, :3 , :])"
   ],
   "metadata": {
    "collapsed": false
   },
   "id": "81c602dc3080d16",
   "execution_count": null
  },
  {
   "cell_type": "code",
   "outputs": [],
   "source": [
    "from src.metrics.ece import ece\n",
    "\n",
    "\n",
    "def calculate_ece_on_experiments(estimators, X_tests, y_tests, sample_size):\n",
    "    eces = []\n",
    "    for i, estimator in enumerate(estimators):\n",
    "        p_pred = estimator.predict_proba(X_tests[i, :sample_size, :])\n",
    "        ECE = ece(p_pred, y_tests[i, :sample_size], 15)\n",
    "        eces.append(ECE)\n",
    "    return np.mean(eces)"
   ],
   "metadata": {
    "collapsed": false
   },
   "id": "f033f703b74930c0",
   "execution_count": null
  },
  {
   "cell_type": "code",
   "execution_count": null,
   "id": "initial_id",
   "metadata": {
    "collapsed": true
   },
   "outputs": [],
   "source": [
    "filenames = [\n",
    "\"../varying_test_sample_size_dataset_family/data/Gummy Worm Dataset__SVM__Gummy Worm Dataset Family__AbsoluteValues__20250405_032919.pkl\",\n",
    "#\"../varying_test_sample_size_dataset_family/data/Gummy Worm Dataset__Neural Network__Gummy Worm Dataset Family__AbsoluteValues__20250311_015848.pkl\",\n",
    "#\"../varying_test_sample_size_dataset_family/data/Gummy Worm Dataset__Logistic Regression__Gummy Worm Dataset Family__AbsoluteValues__20250311_015848.pkl\",\n",
    "#\"../varying_test_sample_size_dataset_family/data/Gummy Worm Dataset__Random Forest__Gummy Worm Dataset Family__AbsoluteValues__20250311_015848.pkl\",\n",
    "#\"../varying_test_sample_size_dataset_family/data/Exclamation Mark Dataset__SVM__Exclamation Mark Dataset Family__AbsoluteValues__20250408_001836.pkl\",\n",
    "#\"../varying_test_sample_size_dataset_family/data/Exclamation Mark Dataset__Neural Network__Exclamation Mark Dataset Family__AbsoluteValues__20250408_234908.pkl\",\n",
    "#\"../varying_test_sample_size_dataset_family/data/Exclamation Mark Dataset__Logistic Regression__Exclamation Mark Dataset Family__AbsoluteValues__20250408_234908.pkl\",\n",
    "#\"../varying_test_sample_size_dataset_family/data/Exclamation Mark Dataset__Random Forest__Exclamation Mark Dataset Family__AbsoluteValues__20250408_234908.pkl\",\n",
    "]\n",
    "\n",
    "subsample_sizes = np.linspace(100, 20000, 200, dtype=np.int64)\n",
    "#for filename in filenames:\n",
    "filename = \"../varying_test_sample_size_dataset_family/data/Gummy Worm Dataset__SVM__Gummy Worm Dataset Family__AbsoluteValues__20250405_032919.pkl\"\n",
    "with (open(filename, 'rb') as file):\n",
    "    print(filename)\n",
    "    results = pickle.load(file)\n",
    "\n",
    "    estimators = results['Estimators']\n",
    "    means = results['Means']\n",
    "    \"\"\"\n",
    "        eces = Parallel(n_jobs=-1, verbose=10)(  # n_jobs=-1 uses all available CPUs\n",
    "            delayed(calculate_ece_on_experiments)(estimators, X_tests, y_tests, sample_size)\n",
    "            for sample_size in subsample_sizes\n",
    "        )\n",
    "    \"\"\"\n",
    "    \n",
    "    fig, ax = plt.subplots(figsize=(10, 6), dpi=150)\n",
    "\n",
    "    for metric in means.keys():\n",
    "        if metric == \"ECE\" or \"True ECE\" in metric:\n",
    "            metric_means = np.array(means[metric])\n",
    "            print(\"Metric\", metric)\n",
    "            ax.plot(subsample_sizes, metric_means, label=metric)\n",
    "        \n",
    "    ax.plot(subsample_sizes, eces, label=\"ECE corrected\")\n",
    "    plt.subplots_adjust(left=0.15, right=0.95, top=0.9, bottom=0.25)\n",
    "    plt.xlabel('Sample Size', fontsize=12)\n",
    "    plt.ylabel('Metric Values', fontsize=12)\n",
    "    plt.title(f'Metrics and ECE corrected', fontsize=14, fontweight='bold')\n",
    "    plt.tight_layout()\n",
    "    plt.legend()\n",
    "    ax.grid(True, linestyle='--', alpha=0.6)\n",
    "\n",
    "    plt.show(block=False)\n",
    "        \n",
    "        #with open(filename[:-4] + \"ece_corrected.pkl\", 'wb') as file:\n",
    "         #   pickle.dump(eces, file)"
   ]
  },
  {
   "cell_type": "code",
   "outputs": [],
   "source": [],
   "metadata": {
    "collapsed": false
   },
   "id": "2173512f28d09cc3",
   "execution_count": null
  },
  {
   "cell_type": "code",
   "outputs": [],
   "source": [],
   "metadata": {
    "collapsed": false
   },
   "id": "737cd184763e0513",
   "execution_count": null
  },
  {
   "cell_type": "code",
   "outputs": [
    {
     "name": "stdout",
     "output_type": "stream",
     "text": [
      "../varying_test_sample_size_dataset_family/data/Gummy Worm Dataset__Neural Network__Gummy Worm Dataset Family__AbsoluteValues__20250311_015848.pkl\n"
     ]
    },
    {
     "name": "stderr",
     "output_type": "stream",
     "text": [
      "IOPub data rate exceeded.\n",
      "The Jupyter server will temporarily stop sending output\n",
      "to the client in order to avoid crashing it.\n",
      "To change this limit, set the config variable\n",
      "`--ServerApp.iopub_data_rate_limit`.\n",
      "\n",
      "Current values:\n",
      "ServerApp.iopub_data_rate_limit=1000000.0 (bytes/sec)\n",
      "ServerApp.rate_limit_window=3.0 (secs)\n",
      "\n"
     ]
    }
   ],
   "source": [
    "subsample_sizes = np.linspace(100, 20000, 200, dtype=np.int64)\n",
    "#for filename in filenames:\n",
    "filename = \"../varying_test_sample_size_dataset_family/data/Gummy Worm Dataset__Neural Network__Gummy Worm Dataset Family__AbsoluteValues__20250311_015848.pkl\"\n",
    "results = None\n",
    "with (open(filename, 'rb') as file):\n",
    "    print(filename)\n",
    "    results = pickle.load(file)"
   ],
   "metadata": {
    "collapsed": false,
    "ExecuteTime": {
     "end_time": "2025-05-23T17:15:06.874083500Z",
     "start_time": "2025-05-23T17:14:35.442584400Z"
    }
   },
   "id": "537a5260b2427a7a",
   "execution_count": 4
  },
  {
   "cell_type": "code",
   "outputs": [
    {
     "name": "stdout",
     "output_type": "stream",
     "text": [
      "dict_keys(['True ECE Samples Dists', 'True ECE Samples Grid', 'True Probabilities Grid', 'Means', 'Std Devs'])\n"
     ]
    }
   ],
   "source": [
    "print(results.keys())"
   ],
   "metadata": {
    "collapsed": false,
    "ExecuteTime": {
     "end_time": "2025-05-23T17:16:32.974395800Z",
     "start_time": "2025-05-23T17:16:32.959174500Z"
    }
   },
   "id": "d5df4147864bdbb3",
   "execution_count": 8
  },
  {
   "cell_type": "code",
   "outputs": [],
   "source": [],
   "metadata": {
    "collapsed": false
   },
   "id": "de24d892a7b39f65"
  }
 ],
 "metadata": {
  "kernelspec": {
   "display_name": "Python 3",
   "language": "python",
   "name": "python3"
  },
  "language_info": {
   "codemirror_mode": {
    "name": "ipython",
    "version": 2
   },
   "file_extension": ".py",
   "mimetype": "text/x-python",
   "name": "python",
   "nbconvert_exporter": "python",
   "pygments_lexer": "ipython2",
   "version": "2.7.6"
  }
 },
 "nbformat": 4,
 "nbformat_minor": 5
}
