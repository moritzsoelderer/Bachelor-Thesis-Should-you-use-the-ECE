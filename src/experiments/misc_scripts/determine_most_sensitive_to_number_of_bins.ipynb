{
 "cells": [
  {
   "cell_type": "code",
   "outputs": [],
   "source": [
    "import numpy as np\n",
    "import pickle"
   ],
   "metadata": {
    "collapsed": false
   },
   "id": "5c67c09f39f8ba73",
   "execution_count": null
  },
  {
   "cell_type": "code",
   "outputs": [],
   "source": [
    "filenames = [\n",
    "    'Gummy Worm Dataset__SVM__Gummy Worm Dataset Family__AbsoluteValues__20250524_140318.pkl',\n",
    "    'Gummy Worm Dataset__Neural Network__Gummy Worm Dataset Family__AbsoluteValues__20250524_140318.pkl',\n",
    "    'Gummy Worm Dataset__Logistic Regression__Gummy Worm Dataset Family__AbsoluteValues__20250524_140318.pkl',\n",
    "    'Gummy Worm Dataset__Random Forest__Gummy Worm Dataset Family__AbsoluteValues__20250524_140318.pkl',\n",
    "    'Exclamation Mark Dataset__SVM__Exclamation Mark Dataset Family__AbsoluteValues__20250529_134349.pkl',\n",
    "    'Exclamation Mark Dataset__Neural Network__Exclamation Mark Dataset Family__AbsoluteValues__20250529_134349.pkl',\n",
    "    'Exclamation Mark Dataset__Logistic Regression__Exclamation Mark Dataset Family__AbsoluteValues__20250529_134349.pkl',\n",
    "    'Exclamation Mark Dataset__Random Forest__Exclamation Mark Dataset Family__AbsoluteValues__20250529_134349.pkl'\n",
    "]"
   ],
   "metadata": {
    "collapsed": false
   },
   "id": "4967a592859dced6",
   "execution_count": null
  },
  {
   "cell_type": "code",
   "execution_count": 3,
   "id": "initial_id",
   "metadata": {
    "collapsed": true
   },
   "outputs": [
    {
     "name": "stderr",
     "output_type": "stream",
     "text": [
      "Exception ignored in: <bound method IPythonKernel._clean_thread_parent_frames of <ipykernel.ipkernel.IPythonKernel object at 0x00000234E7129F50>>\n",
      "Traceback (most recent call last):\n",
      "  File \"C:\\Users\\Moritz\\PycharmProjects\\bachelor_thesis\\.venv\\Lib\\site-packages\\ipykernel\\ipkernel.py\", line 775, in _clean_thread_parent_frames\n",
      "    def _clean_thread_parent_frames(\n",
      "\n",
      "KeyboardInterrupt: \n"
     ]
    },
    {
     "name": "stdout",
     "output_type": "stream",
     "text": [
      "Gummy Worm Dataset__Logistic Regression__Gummy Worm Dataset Family__AbsoluteValues__20250524_140318.pkl\n",
      "Gummy Worm Dataset__Random Forest__Gummy Worm Dataset Family__AbsoluteValues__20250524_140318.pkl\n",
      "Exclamation Mark Dataset__SVM__Exclamation Mark Dataset Family__AbsoluteValues__20250529_134349.pkl\n",
      "Exclamation Mark Dataset__Neural Network__Exclamation Mark Dataset Family__AbsoluteValues__20250529_134349.pkl\n",
      "Exclamation Mark Dataset__Logistic Regression__Exclamation Mark Dataset Family__AbsoluteValues__20250529_134349.pkl\n",
      "Exclamation Mark Dataset__Random Forest__Exclamation Mark Dataset Family__AbsoluteValues__20250529_134349.pkl\n"
     ]
    }
   ],
   "source": [
    "eces = []\n",
    "aces = []\n",
    "fces = []\n",
    "for filename in filenames:\n",
    "    with (open('../varying_bins_dataset_family/data/' + filename, 'rb') as file):\n",
    "        print(filename)\n",
    "        results = pickle.load(file)\n",
    "\n",
    "        means = results[\"Means\"]\n",
    "        eces.append(means[\"ECE\"])\n",
    "        aces.append(means[\"ACE\"])\n",
    "        fces.append(means[\"FCE\"])\n",
    "        \n",
    "eces = np.array(eces)\n",
    "aces = np.array(aces)\n",
    "fces = np.array(fces)"
   ]
  },
  {
   "cell_type": "code",
   "outputs": [
    {
     "name": "stdout",
     "output_type": "stream",
     "text": [
      "(8,)\n"
     ]
    }
   ],
   "source": [
    "eces_stds = np.std(eces, axis=-1)\n",
    "aces_stds = np.std(aces, axis=-1)\n",
    "fces_stds = np.std(fces, axis=-1)\n",
    "\n",
    "print(eces_stds.shape)"
   ],
   "metadata": {
    "collapsed": false,
    "ExecuteTime": {
     "end_time": "2025-06-02T22:11:37.326232700Z",
     "start_time": "2025-06-02T22:11:37.231980800Z"
    }
   },
   "id": "312afdc19f5b0d9e",
   "execution_count": 4
  },
  {
   "cell_type": "code",
   "outputs": [],
   "source": [
    "experiments = [\"SVM - GW\", \"NN - GW\", \"LR - GW\", \"RF - GW\", \"SVM - EX\", \"NN - EX\", \"LR - EX\", \"RF - EX\"]\n",
    "\n",
    "df_list = []"
   ],
   "metadata": {
    "collapsed": false,
    "ExecuteTime": {
     "end_time": "2025-06-02T22:11:37.337273400Z",
     "start_time": "2025-06-02T22:11:37.255106500Z"
    }
   },
   "id": "ba9661524e1d28b0",
   "execution_count": 5
  },
  {
   "cell_type": "code",
   "outputs": [],
   "source": [
    "for i, name in enumerate(experiments):\n",
    "    df_list.append({\n",
    "        \"experiment\": name,\n",
    "        \"ECE\": eces_stds[i],\n",
    "        \"FCE\": fces_stds[i],\n",
    "        \"ACE\": aces_stds[i]\n",
    "    })"
   ],
   "metadata": {
    "collapsed": false,
    "ExecuteTime": {
     "end_time": "2025-06-02T22:11:37.338586800Z",
     "start_time": "2025-06-02T22:11:37.264677900Z"
    }
   },
   "id": "746a95d0086b1560",
   "execution_count": 6
  },
  {
   "cell_type": "code",
   "outputs": [
    {
     "name": "stdout",
     "output_type": "stream",
     "text": [
      "  experiment       ECE       FCE       ACE\n",
      "0   SVM - GW  0.001559  0.001340  0.001144\n",
      "1    NN - GW  0.000799  0.000812  0.000680\n",
      "2    LR - GW  0.011352  0.011730  0.005492\n",
      "3    RF - GW  0.000964  0.001518  0.000417\n",
      "4   SVM - EX  0.005920  0.005672  0.003791\n",
      "5    NN - EX  0.002863  0.002627  0.004192\n",
      "6    LR - EX  0.003073  0.002799  0.004681\n",
      "7    RF - EX  0.000338  0.000589  0.000359\n"
     ]
    }
   ],
   "source": [
    "import pandas as pd\n",
    "\n",
    "pd.set_option('display.max_columns', None)\n",
    "df = pd.DataFrame(df_list)\n",
    "print(df)"
   ],
   "metadata": {
    "collapsed": false,
    "ExecuteTime": {
     "end_time": "2025-06-02T22:11:37.371728800Z",
     "start_time": "2025-06-02T22:11:37.279778600Z"
    }
   },
   "id": "fe405217d157d495",
   "execution_count": 7
  },
  {
   "cell_type": "code",
   "outputs": [
    {
     "name": "stdout",
     "output_type": "stream",
     "text": [
      "\\begin{table}\n",
      "\\caption{Mean absolute error between True ECE$_{dists}^{15}$ and various metrics. Bold and underlined values indicate top-1 and top-2 values, respectively. GW, EX, NN, LR, RF are abbreviations for Gummy Worm, Exclamation Mark, Neural Network, Logistic Regression and Random Forest, respectively.}\n",
      "\\begin{tabular}{llll}\n",
      "\\toprule\n",
      "experiment & ECE & FCE & ACE \\\\\n",
      "\\midrule\n",
      "SVM - GW & \\textbf{0.00156} & \\underline{0.00134} & 0.00114 \\\\\n",
      "NN - GW & \\underline{0.00080} & \\textbf{0.00081} & 0.00068 \\\\\n",
      "LR - GW & \\underline{0.01135} & \\textbf{0.01173} & 0.00549 \\\\\n",
      "RF - GW & \\underline{0.00096} & \\textbf{0.00152} & 0.00042 \\\\\n",
      "SVM - EX & \\textbf{0.00592} & \\underline{0.00567} & 0.00379 \\\\\n",
      "NN - EX & \\underline{0.00286} & 0.00263 & \\textbf{0.00419} \\\\\n",
      "LR - EX & \\underline{0.00307} & 0.00280 & \\textbf{0.00468} \\\\\n",
      "RF - EX & 0.00034 & \\textbf{0.00059} & \\underline{0.00036} \\\\\n",
      "\\bottomrule\n",
      "\\end{tabular}\n",
      "\\end{table}\n"
     ]
    }
   ],
   "source": [
    "### Print Latex code for table\n",
    "\n",
    "model_names = df[\"experiment\"]\n",
    "data_only = df.drop(columns=[\"experiment\"])\n",
    "\n",
    "def highlight_row(row):\n",
    "    ranks = row.rank(method=\"min\", ascending=False)\n",
    "    formatted = row.astype(str)\n",
    "\n",
    "    for col in row.index:\n",
    "        val = row[col]\n",
    "        if ranks[col] == 1:\n",
    "            formatted[col] = f\"\\\\textbf{{{val:.5f}}}\"\n",
    "        elif ranks[col] == 2:\n",
    "            formatted[col] = f\"\\\\underline{{{val:.5f}}}\"\n",
    "        else:\n",
    "            formatted[col] = f\"{val:.5f}\"\n",
    "    return formatted\n",
    "\n",
    "# Apply formatting row-wise\n",
    "styled_data = data_only.apply(highlight_row, axis=1)\n",
    "\n",
    "# Add back the model column\n",
    "styled_df = pd.concat([model_names, styled_data], axis=1)\n",
    "\n",
    "latex_code = styled_df.to_latex(index=False, caption=\"Sensitivity to \\textit{bins} hyperparameter of various binned metrics expressed in standard deviation of metric values between 1 and 100 bins. Bold and underlined values indicate most sensitive and second most sensitive values, respectively. GWF, EXF, NN, LR, RF are abbreviations for Gummy Worm Family, Exclamation Mark Family, Neural Network, Logistic Regression and Random Forest, respectively\")\n",
    "print(latex_code)"
   ],
   "metadata": {
    "collapsed": false,
    "ExecuteTime": {
     "end_time": "2025-06-02T22:11:37.459627Z",
     "start_time": "2025-06-02T22:11:37.321728300Z"
    }
   },
   "id": "4d4e4db844a41e7f",
   "execution_count": 8
  },
  {
   "cell_type": "code",
   "outputs": [],
   "source": [],
   "metadata": {
    "collapsed": false,
    "ExecuteTime": {
     "end_time": "2025-06-02T22:11:37.479029300Z",
     "start_time": "2025-06-02T22:11:37.462469Z"
    }
   },
   "id": "821c9ffbab7b5151",
   "execution_count": 8
  }
 ],
 "metadata": {
  "kernelspec": {
   "display_name": "Python 3",
   "language": "python",
   "name": "python3"
  },
  "language_info": {
   "codemirror_mode": {
    "name": "ipython",
    "version": 2
   },
   "file_extension": ".py",
   "mimetype": "text/x-python",
   "name": "python",
   "nbconvert_exporter": "python",
   "pygments_lexer": "ipython2",
   "version": "2.7.6"
  }
 },
 "nbformat": 4,
 "nbformat_minor": 5
}
