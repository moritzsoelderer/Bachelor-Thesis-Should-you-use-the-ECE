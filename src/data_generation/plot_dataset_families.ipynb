{
 "cells": [
  {
   "cell_type": "raw",
   "source": [],
   "metadata": {
    "collapsed": false
   },
   "id": "244f085b0b95035a"
  },
  {
   "cell_type": "code",
   "execution_count": null,
   "id": "initial_id",
   "metadata": {
    "collapsed": true
   },
   "outputs": [],
   "source": [
    "import matplotlib.pyplot as plt\n",
    "import numpy as np\n",
    "from matplotlib.lines import Line2D\n",
    "\n",
    "from src.data_generation.datasets import gummy_worm_dataset_family, exclamation_mark_dataset_family"
   ]
  },
  {
   "cell_type": "code",
   "outputs": [],
   "source": [
    "num_samples_per_dist = 10000\n",
    "\n",
    "gummmy_worm_data_generations = gummy_worm_dataset_family()\n",
    "exclamation_mark_data_generations = exclamation_mark_dataset_family()"
   ],
   "metadata": {
    "collapsed": false
   },
   "id": "78ae99590ecfe03b",
   "execution_count": null
  },
  {
   "cell_type": "code",
   "outputs": [],
   "source": [
    "fig, axs = plt.subplots(5, 4, figsize=(20, 24), dpi=200, sharex=True, sharey=True, constrained_layout=True)\n",
    "axs = axs.flatten()\n",
    "\n",
    "plt.suptitle(\"Gummy Worm Dataset Family\")\n",
    "colormap = np.array(['red', 'blue'])\n",
    "\n",
    "for i, data_generation in enumerate(gummmy_worm_data_generations):\n",
    "    ax = axs[i]\n",
    "\n",
    "    X, y = data_generation.generate_data(num_samples_per_dist)\n",
    "    \n",
    "    print(\"Gummy Worm Variant\", i, \":\", X.shape, y.shape)\n",
    "    \n",
    "    ax.scatter(X[:, 0], X[:, 1], c=colormap[y], s=0.8)\n",
    "    ax.grid(True, linestyle='--', alpha=0.6)\n",
    "\n",
    "    legend_elements = [\n",
    "    Line2D([0], [0], marker='o', color='white', markerfacecolor=colormap[label], label=str(label))\n",
    "    for label in np.unique(y)\n",
    "    ]\n",
    "    ax.legend(handles=legend_elements, title=\"Classes\", loc='upper left')\n",
    "    ax.set_xlabel(\"feature 0\")\n",
    "    ax.set_ylabel(\"feature 1\")\n",
    "\n",
    "plt.savefig(\"./gummy_worm_dataset_family.png\")"
   ],
   "metadata": {
    "collapsed": false
   },
   "id": "46279881e88a255c",
   "execution_count": null
  },
  {
   "cell_type": "code",
   "outputs": [],
   "source": [
    "fig, axs = plt.subplots(5, 4, figsize=(20, 24), dpi=200, sharex=True, sharey=True, constrained_layout=True)\n",
    "axs = axs.flatten()\n",
    "\n",
    "plt.suptitle(\"Exclamation Mark Family\")\n",
    "colormap = np.array(['red', 'blue'])\n",
    "\n",
    "for i, data_generation in enumerate(exclamation_mark_data_generations):\n",
    "    ax = axs[i]\n",
    "\n",
    "    X, y = data_generation.generate_data(num_samples_per_dist)\n",
    "    \n",
    "    print(\"Exclamation Mark Variant\", i, \":\", X.shape, y.shape)\n",
    "    \n",
    "    ax.scatter(X[:, 0], X[:, 1], c=colormap[y], s=0.8)\n",
    "    ax.grid(True, linestyle='--', alpha=0.6)\n",
    "\n",
    "    legend_elements = [\n",
    "    Line2D([0], [0], marker='o', color='white', markerfacecolor=colormap[label], label=str(label))\n",
    "    for label in np.unique(y)\n",
    "    ]\n",
    "    ax.legend(handles=legend_elements, title=\"Classes\", loc='upper left')\n",
    "    ax.set_xlabel(\"feature 0\")\n",
    "    ax.set_ylabel(\"feature 1\")\n",
    "    \n",
    "\n",
    "plt.savefig(\"./exclamation_mark_dataset_family.png\")\n",
    "\n"
   ],
   "metadata": {
    "collapsed": false
   },
   "id": "615991f293417816",
   "execution_count": null
  },
  {
   "cell_type": "code",
   "outputs": [],
   "source": [],
   "metadata": {
    "collapsed": false
   },
   "id": "f992c57f7e7e30a"
  }
 ],
 "metadata": {
  "kernelspec": {
   "display_name": "Python 3",
   "language": "python",
   "name": "python3"
  },
  "language_info": {
   "codemirror_mode": {
    "name": "ipython",
    "version": 2
   },
   "file_extension": ".py",
   "mimetype": "text/x-python",
   "name": "python",
   "nbconvert_exporter": "python",
   "pygments_lexer": "ipython2",
   "version": "2.7.6"
  }
 },
 "nbformat": 4,
 "nbformat_minor": 5
}
