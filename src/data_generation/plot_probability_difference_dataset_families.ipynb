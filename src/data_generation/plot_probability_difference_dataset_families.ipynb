{
 "cells": [
  {
   "cell_type": "code",
   "execution_count": null,
   "id": "initial_id",
   "metadata": {
    "collapsed": true
   },
   "outputs": [],
   "source": [
    "import numpy as np\n",
    "import matplotlib.pyplot as plt\n",
    "from src.data_generation.datasets import gummy_worm_dataset_family, exclamation_mark_dataset_family"
   ]
  },
  {
   "cell_type": "code",
   "outputs": [],
   "source": [
    "from src.utilities.utils import sample_uniformly_within_bounds\n",
    "from sklearn.model_selection import train_test_split\n",
    "from src.utilities.experiment_utils import train_svm, train_neural_network, train_logistic_regression, \\\n",
    "    train_random_forest\n",
    "\n",
    "datasets = gummy_worm_dataset_family()\n",
    "\n",
    "p_preds_svm = []\n",
    "p_preds_nn = []\n",
    "p_preds_lr = []\n",
    "p_preds_rf = []\n",
    "p_trues = []\n",
    "\n",
    "X_grid = sample_uniformly_within_bounds([-5, -5], [15, 15], size=400000)\n",
    "for dataset in datasets:\n",
    "    X, y = dataset.generate_data(10000)\n",
    "    X_train, _, y_train, _ = train_test_split(X, y, test_size=0.5, random_state=42)\n",
    "    \n",
    "    print(\"Predicting for\", dataset.title)\n",
    "    \n",
    "    # Training and predicting\n",
    "    svm = train_svm(X_train, y_train)\n",
    "    p_preds_svm.append(svm.predict_proba(X_grid)[:, 1])\n",
    "    \n",
    "    nn = train_neural_network(X_train, y_train, sample_dim=dataset.n_features)\n",
    "    p_preds_nn.append(nn.predict(X_grid)[:, 1])\n",
    "    \n",
    "    lr = train_logistic_regression(X_train, y_train)\n",
    "    p_preds_lr.append(lr.predict_proba(X_grid)[:, 1])\n",
    "    \n",
    "    rf = train_random_forest(X_train, y_train)\n",
    "    p_preds_rf.append(rf.predict_proba(X_grid)[:, 1])\n",
    "    \n",
    "    \n",
    "    print(\"True probabilities for\", dataset.title)\n",
    "    # True probabilities\n",
    "    p_trues.append(dataset.cond_prob(X_grid, k=1))\n"
   ],
   "metadata": {
    "collapsed": false,
    "is_executing": true
   },
   "id": "464caf1ac08d7e77",
   "execution_count": null
  },
  {
   "cell_type": "code",
   "outputs": [],
   "source": [
    "p_pred_mean_svm = np.mean(np.array(p_preds_svm), axis=0)\n",
    "p_pred_mean_nn = np.mean(np.array(p_preds_nn), axis=0)\n",
    "p_pred_mean_lr = np.mean(np.array(p_preds_lr), axis=0)\n",
    "p_pred_mean_rf = np.mean(np.array(p_preds_rf), axis=0)\n",
    "p_true_mean = np.mean(np.array(p_trues), axis=0)"
   ],
   "metadata": {
    "collapsed": false,
    "is_executing": true
   },
   "id": "1be63d58cd1f36e0",
   "execution_count": null
  },
  {
   "cell_type": "code",
   "outputs": [],
   "source": [
    "fig, axs = plt.subplots(2, 2, figsize=(20, 20), dpi=200, sharex=True, sharey=True)\n",
    "\n",
    "axs = axs.flatten()\n",
    "\n",
    "models = [\"SVM\", \"Neural Network\", \"Logistic Regression\", \"Random Forest\"]\n",
    "for i, p_pred_mean in enumerate([p_pred_mean_svm, p_pred_mean_nn, p_pred_mean_lr, p_pred_mean_rf]):\n",
    "    ax = axs[i]\n",
    "    \n",
    "    prob_diff = np.abs(p_true_mean - p_pred_mean)\n",
    "    ax.scatter(X_grid[:, 0], X_grid[:, 1], c=prob_diff, cmap='coolwarm', s=1)\n",
    "    \n",
    "\n",
    "    ax.set_xlabel(\"feature 0\", fontsize=14)\n",
    "    ax.set_ylabel(\"feature 1\", fontsize=14)\n",
    "    ax.set_title(models[i], fontsize=16)\n",
    "    \n",
    "plt.savefig(\"./plots/probability_difference_gummy_worm_family.png\")\n",
    "plt.tight_layout()\n"
   ],
   "metadata": {
    "collapsed": false,
    "is_executing": true
   },
   "id": "911f8d152c28fdac",
   "execution_count": null
  },
  {
   "cell_type": "code",
   "outputs": [],
   "source": [
    "datasets = exclamation_mark_dataset_family()\n",
    "\n",
    "p_preds_svm = []\n",
    "p_preds_nn = []\n",
    "p_preds_lr = []\n",
    "p_preds_rf = []\n",
    "p_trues = []\n",
    "\n",
    "X_grid = sample_uniformly_within_bounds([-5, -5], [15, 15], size=400000)\n",
    "for dataset in datasets:\n",
    "    X, y = dataset.generate_data(10000)\n",
    "    X_train, _, y_train, _ = train_test_split(X, y, test_size=0.5, random_state=42)\n",
    "    \n",
    "    print(\"Predicting for\", dataset.title)\n",
    "    \n",
    "    # Training and predicting\n",
    "    svm = train_svm(X_train, y_train)\n",
    "    p_preds_svm.append(svm.predict_proba(X_grid)[:, 1])\n",
    "    \n",
    "    nn = train_neural_network(X_train, y_train, sample_dim=dataset.n_features)\n",
    "    p_preds_nn.append(nn.predict(X_grid)[:, 1])\n",
    "    \n",
    "    lr = train_logistic_regression(X_train, y_train)\n",
    "    p_preds_lr.append(lr.predict_proba(X_grid)[:, 1])\n",
    "    \n",
    "    rf = train_random_forest(X_train, y_train)\n",
    "    p_preds_rf.append(rf.predict_proba(X_grid)[:, 1])\n",
    "    \n",
    "    \n",
    "    print(\"True probabilities for\", dataset.title)\n",
    "    # True probabilities\n",
    "    p_trues.append(dataset.cond_prob(X_grid, k=1))"
   ],
   "metadata": {
    "collapsed": false,
    "is_executing": true
   },
   "id": "dc40bf803b1e15f0",
   "execution_count": null
  },
  {
   "cell_type": "code",
   "outputs": [],
   "source": [
    "p_pred_mean_svm = np.mean(np.array(p_preds_svm), axis=0)\n",
    "p_pred_mean_nn = np.mean(np.array(p_preds_nn), axis=0)\n",
    "p_pred_mean_lr = np.mean(np.array(p_preds_lr), axis=0)\n",
    "p_pred_mean_rf = np.mean(np.array(p_preds_rf), axis=0)\n",
    "p_true_mean = np.mean(np.array(p_trues), axis=0)"
   ],
   "metadata": {
    "collapsed": false,
    "is_executing": true
   },
   "id": "624783ccd2c20724",
   "execution_count": null
  },
  {
   "cell_type": "code",
   "outputs": [],
   "source": [
    "fig, axs = plt.subplots(2, 2, figsize=(20, 20), dpi=200, sharex=True, sharey=True)\n",
    "\n",
    "axs = axs.flatten()\n",
    "\n",
    "models = [\"SVM\", \"Neural Network\", \"Logistic Regression\", \"Random Forest\"]\n",
    "for i, p_pred_mean in enumerate([p_pred_mean_svm, p_pred_mean_nn, p_pred_mean_lr, p_pred_mean_rf]):\n",
    "    ax = axs[i]\n",
    "    \n",
    "    prob_diff = np.abs(p_true_mean - p_pred_mean)\n",
    "    ax.scatter(X_grid[:, 0], X_grid[:, 1], c=prob_diff, cmap='coolwarm', s=1)\n",
    "    \n",
    "\n",
    "    ax.set_xlabel(\"feature 0\", fontsize=14)\n",
    "    ax.set_ylabel(\"feature 1\", fontsize=14)\n",
    "    ax.set_title(models[i], fontsize=16)\n",
    "    \n",
    "plt.savefig(\"./plots/probability_difference_exclamation_mark_family.png\")\n",
    "plt.tight_layout()"
   ],
   "metadata": {
    "collapsed": false
   },
   "id": "1e9872192dd9e475"
  }
 ],
 "metadata": {
  "kernelspec": {
   "display_name": "Python 3",
   "language": "python",
   "name": "python3"
  },
  "language_info": {
   "codemirror_mode": {
    "name": "ipython",
    "version": 2
   },
   "file_extension": ".py",
   "mimetype": "text/x-python",
   "name": "python",
   "nbconvert_exporter": "python",
   "pygments_lexer": "ipython2",
   "version": "2.7.6"
  }
 },
 "nbformat": 4,
 "nbformat_minor": 5
}
